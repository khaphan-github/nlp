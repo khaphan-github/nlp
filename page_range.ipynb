{
 "cells": [
  {
   "cell_type": "code",
   "execution_count": 50,
   "id": "664512bc",
   "metadata": {},
   "outputs": [
    {
     "name": "stdout",
     "output_type": "stream",
     "text": [
      "Requirement already satisfied: scikit-learn in /opt/conda/lib/python3.11/site-packages (1.6.1)\n",
      "Requirement already satisfied: pd in /opt/conda/lib/python3.11/site-packages (0.0.4)\n",
      "Requirement already satisfied: numpy in /opt/conda/lib/python3.11/site-packages (1.26.4)\n",
      "Requirement already satisfied: nltk in /opt/conda/lib/python3.11/site-packages (3.9.1)\n",
      "Requirement already satisfied: scipy>=1.6.0 in /opt/conda/lib/python3.11/site-packages (from scikit-learn) (1.13.1)\n",
      "Requirement already satisfied: joblib>=1.2.0 in /opt/conda/lib/python3.11/site-packages (from scikit-learn) (1.4.2)\n",
      "Requirement already satisfied: threadpoolctl>=3.1.0 in /opt/conda/lib/python3.11/site-packages (from scikit-learn) (3.5.0)\n",
      "Requirement already satisfied: click in /opt/conda/lib/python3.11/site-packages (from nltk) (8.1.8)\n",
      "Requirement already satisfied: regex>=2021.8.3 in /opt/conda/lib/python3.11/site-packages (from nltk) (2024.11.6)\n",
      "Requirement already satisfied: tqdm in /opt/conda/lib/python3.11/site-packages (from nltk) (4.67.1)\n",
      "Note: you may need to restart the kernel to use updated packages.\n"
     ]
    }
   ],
   "source": [
    "%pip install  scikit-learn pd numpy nltk"
   ]
  },
  {
   "cell_type": "code",
   "execution_count": null,
   "id": "6e1bdfbe",
   "metadata": {},
   "outputs": [],
   "source": [
    "'''\n",
    "Tiền xử lý dữ liệu\n",
    "Biến đỗi các từ trong tập dữ liệu DUC sang CSV để tiện xử lý. ở các bước tiếp theo\n",
    "'''\n",
    "import os\n",
    "import pandas as pd\n",
    "import re\n",
    "\n",
    "def parse_sentence(line):\n",
    "        match = re.match(r'<s docid=\"([^\"]+)\" num=\"(\\d+)\" wdcount=\"(\\d+)\"> (.*)</s>', line)\n",
    "        if match:\n",
    "            return {\n",
    "                'docid': match.group(1),\n",
    "                'num': int(match.group(2)),\n",
    "                'wdcount': int(match.group(3)),\n",
    "                'sentence': match.group(4)\n",
    "            }\n",
    "        return None\n",
    "    \n",
    "def convert_duc_to_csv(input_dir = './DUC_TEXT/train', out_dir='DUC_TEST_sentences.csv'):\n",
    "    '''\n",
    "    Duyệt tất các file trong thư mục data - sau đó parse senctence.\n",
    "    Dữ liệu sẽ được lưu vào DataFrame và xuất ra file CSV.\n",
    "    '''\n",
    "    data = []\n",
    "    for filename in os.listdir(input_dir):\n",
    "        file_path = os.path.join(input_dir, filename)\n",
    "        if os.path.isfile(file_path):\n",
    "            with open(file_path, 'r', encoding='utf-8') as f:\n",
    "                for line in f:\n",
    "                    line = line.strip()\n",
    "                    if line.startswith('<s docid='):\n",
    "                        parsed = parse_sentence(line)\n",
    "                        if parsed:\n",
    "                            data.append(parsed)\n",
    "\n",
    "    df = pd.DataFrame(data)\n",
    "    df.to_csv(out_dir, index=False)\n",
    "\n",
    "convert_duc_to_csv()"
   ]
  },
  {
   "cell_type": "markdown",
   "id": "86831368",
   "metadata": {},
   "source": [
    "# Build graph from word cloud\n",
    "1. Method 1: Use frequency \n",
    "2. Method 2: Use vector similarity "
   ]
  },
  {
   "cell_type": "code",
   "execution_count": null,
   "id": "11672946",
   "metadata": {},
   "outputs": [],
   "source": [
    "\n",
    "import numpy as np\n",
    "import pandas as pd\n",
    "\n",
    "def compute_tfidf(sentences):\n",
    "  '''\n",
    "  Trong ham nay pham vi bieu dien   \n",
    "  '''\n",
    "  # Dict chứa key ({lowercase of word: so luong tu })\n",
    "  vocab = {}\n",
    "  for sent in sentences:\n",
    "    for word in sent.lower().split():\n",
    "      vocab[word] = vocab.get(word, 0) + 1\n",
    "  \n",
    "  # Chuyen tat ca tu da tinh toan trong dict - thanh list de chuyen \n",
    "  # Danh index - vị trí của từ trong toàn bộ văn bản.\n",
    "  # Lay tap ho cac key cua tu dien\n",
    "  terms = list(vocab.keys())\n",
    "  term_index = {term: idx for idx, term in enumerate(terms)}\n",
    "\n",
    "  print(term_index)\n",
    "  # Calculate frequency\n",
    "  tf = np.zeros((len(sentences), len(terms)))\n",
    "\n",
    "  '''\n",
    "    Input:\n",
    "    sentences: [\"Xin chao ban\", \"Minh ten la Kha\"]\n",
    "    term_index: {'xin': 0, 'chao': 1, 'ban': 2, 'minh': 3, 'ten': 4, 'la': 5, 'kha': 6}\n",
    "    Step:\n",
    "       1. Duyệt từ đoạn văn bản sentences\n",
    "       2. Chuyển thành lower sau đó tách theo khoản trắng thanh các từ đơn.\n",
    "       3. Duyệt từng từ & duyệt items trong term index để complete ma trận tf\n",
    "       4. tf[sentence thứi,vị trí tại các từ có value] += 1 \n",
    "  '''\n",
    "  \n",
    "  for i, sent in enumerate(sentences):\n",
    "    words = sent.lower().split()\n",
    "    for word in words:\n",
    "      if word in term_index:\n",
    "        tf[i, term_index[word]] += 1\n",
    "\n",
    "    tf[i] /= len(words)\n",
    "  # Compute document frequency (DF)\n",
    "  df_counts = np.zeros(len(terms))\n",
    "\n",
    "  for idx, term in enumerate(terms):\n",
    "    df_counts[idx] = sum(term in sent.lower().split() for sent in sentences)\n",
    "  \n",
    "  # Compute IDF\n",
    "  N = len(sentences)\n",
    "  idf = np.log((N + 1) / (df_counts + 1)) + 1\n",
    "  \n",
    "  # Compute TF-IDF\n",
    "  tfidf = tf * idf\n",
    "  \n",
    "  tfidf_df = pd.DataFrame(tfidf, columns=terms)\n",
    "  return tfidf_df\n",
    "\n",
    "def cosine_sim_matrix(X):\n",
    "  X_norm = X / np.linalg.norm(X, axis=1, keepdims=True)\n",
    "  return np.dot(X_norm, X_norm.T)\n",
    "\n",
    "def euclidean_dist_matrix(X):\n",
    "  return np.linalg.norm(X[:, np.newaxis] - X[np.newaxis, :], axis=-1)"
   ]
  },
  {
   "cell_type": "code",
   "execution_count": 66,
   "id": "7fc3b213",
   "metadata": {},
   "outputs": [
    {
     "name": "stdout",
     "output_type": "stream",
     "text": [
      "{'xin': 0, 'chao': 1, 'ban,': 2, 'minh': 3, 'la': 4, 'ban': 5, 'cua': 6, 'ten': 7, 'kha': 8, 'hello': 9}\n"
     ]
    }
   ],
   "source": [
    "sentence = \"Xin chao ban, minh la ban cua ban, minh ten la kha\"\n",
    "sentecne_1 = \"Hello ban, minh ten la kha\"\n",
    "tf_idf =  compute_tfidf([sentence, sentecne_1])"
   ]
  },
  {
   "cell_type": "code",
   "execution_count": null,
   "id": "2d8a3ee2",
   "metadata": {},
   "outputs": [
    {
     "name": "stderr",
     "output_type": "stream",
     "text": [
      "[nltk_data] Downloading package stopwords to /home/vscode/nltk_data...\n",
      "[nltk_data]   Package stopwords is already up-to-date!\n",
      "[nltk_data] Downloading package wordnet to /home/vscode/nltk_data...\n",
      "[nltk_data]   Package wordnet is already up-to-date!\n"
     ]
    }
   ],
   "source": [
    "import re\n",
    "import string\n",
    "import nltk\n",
    "from nltk.corpus import stopwords\n",
    "from nltk.stem import WordNetLemmatizer\n",
    "\n",
    "nltk.download('stopwords')\n",
    "nltk.download('wordnet')\n",
    "stop_words = set(stopwords.words('english'))\n",
    "lemmatizer = WordNetLemmatizer()\n",
    "\n",
    "def preprocess_text(text):\n",
    "  # Lowercase\n",
    "  text = text.lower()\n",
    "  # Remove punctuation\n",
    "  text = text.translate(str.maketrans('', '', string.punctuation))\n",
    "  # Remove digits\n",
    "  text = re.sub(r'\\d+', '', text)\n",
    "  # Remove extra whitespace\n",
    "  text = re.sub(r'\\s+', ' ', text).strip()\n",
    "  # Remove stopwords and lemmatize\n",
    "  text = ' '.join(\n",
    "    lemmatizer.lemmatize(word) for word in text.split() if word not in stop_words\n",
    "  )\n",
    "  return text"
   ]
  },
  {
   "cell_type": "code",
   "execution_count": null,
   "id": "6be9bd04",
   "metadata": {},
   "outputs": [],
   "source": [
    "# data loader\n",
    "def read_sentences(file_path ='DUC_TEST_sentences.csv'):\n",
    "    df = pd.read_csv(file_path)\n",
    "    return df\n",
    "\n",
    "def save_df(df, file_path='DUC_TEST_weight.csv'):\n",
    "    df.to_csv(file_path, index=False)\n"
   ]
  },
  {
   "cell_type": "markdown",
   "id": "dd1d9a62",
   "metadata": {},
   "source": [
    "# Preprocessing data"
   ]
  },
  {
   "cell_type": "code",
   "execution_count": null,
   "id": "88cacab9",
   "metadata": {},
   "outputs": [],
   "source": [
    "# Clearn text\n",
    "def clean_text(df):\n",
    "    df['sentence'] = df['sentence'].apply(preprocess_text)\n",
    "    return df\n",
    "  "
   ]
  },
  {
   "cell_type": "code",
   "execution_count": null,
   "id": "8a988c3f",
   "metadata": {},
   "outputs": [
    {
     "name": "stderr",
     "output_type": "stream",
     "text": [
      "/tmp/ipykernel_1293/4289590058.py:20: RuntimeWarning: invalid value encountered in divide\n",
      "  tf[i] /= len(words)\n"
     ]
    }
   ],
   "source": [
    "\n",
    "'''\n",
    "1. Tien xu ly van ban truoc khi day tinh toan tuong dong gia cac doan van trong doc\n",
    "2. Nhom tat ca item trong document theo docid de tinh toan tuong dong cua cac cau van trong document\n",
    "3. Duyệt từng câu văn trong docs id:\n",
    "   - Tinh tf-idf\n",
    "   - Tinh toan cosine similarity giua cac cau van trong doan van\n",
    "4. Lưu gia tri tinh toan duoc vao data frame.\n",
    "   - Duyet tung item trong ma tran viua tim duoc luu vao df để khỏi tính lại ở các bước sau.\n",
    "'''\n",
    "df = read_sentences('DUC_TEST_sentences.csv')\n",
    "df = df.head(10)\n",
    "df = clean_text(df)\n",
    "grouped = df.groupby('docid')\n",
    "edges = []\n",
    "\n",
    "for docid, group in grouped:\n",
    "  sentences = group['sentence'].tolist()\n",
    "  indices = group['num'].tolist()\n",
    "  \n",
    "  X = compute_tfidf(sentences).values\n",
    "  sim_matrix = cosine_sim_matrix(X)\n",
    "  \n",
    "  n = len(sentences)\n",
    "  \n",
    "  for i in range(n):\n",
    "    for j in range(n):\n",
    "      weight = sim_matrix[i, j]\n",
    "      edges.append({'docid': docid, 'src': indices[i], 'dst': indices[j], 'weight': weight})\n",
    "edges_df = pd.DataFrame(edges)\n",
    "save_df(edges_df)\n"
   ]
  },
  {
   "cell_type": "code",
   "execution_count": null,
   "id": "345a2cec",
   "metadata": {},
   "outputs": [],
   "source": [
    "'''\n",
    "  Muc tieu cua doan nay: \n",
    "  - Chuyen toi de qua tinh toan o bước trước thành ma trận kề \n",
    "  - Với tiêu chí độ tương đồng giửa 2 vector là nhỏ hơn ngưỡng SIM_THRESHOLD nghĩa là nó tương tuồng nhau vào có liên hệ giữa 2 câu văn.\n",
    "  - Trong bài này em đã thử gán giá trị tại các đỉnh nếu có kết nối là giá trị tính toán tương đồng luôn thay vì gán là 1,\n",
    "  - Kết quả thực nghiệm được so sánh bên dưới,\n",
    "  - Cuoi cung luu ket qua tinh toan vào file json để không phải tính lại \n",
    "'''\n",
    "SIM_THRESHOLD = 0.21\n",
    "import json\n",
    "\n",
    "adj_matrices = []\n",
    "for docid, group in edges_df.groupby('docid'):\n",
    "  indices = sorted(group['src'].unique())\n",
    "  n = len(indices)\n",
    "  \n",
    "  adj_matrix = np.zeros((n, n))\n",
    "  \n",
    "  idx_map = {idx: i for i, idx in enumerate(indices)}\n",
    "  \n",
    "  for _, row in group.iterrows():\n",
    "    i = idx_map[row['src']]\n",
    "    j = idx_map[row['dst']]\n",
    "    similarity = row['weight']\n",
    "    \n",
    "    if i == j:\n",
    "      adj_matrix[i, j] = 0\n",
    "      \n",
    "    elif similarity < SIM_THRESHOLD:\n",
    "      adj_matrix[i, j] = 1\n",
    "    \n",
    "    else:\n",
    "      adj_matrix[i, j] = 0\n",
    "  \n",
    "  adj_matrices.append(adj_matrix.tolist())\n",
    "\n",
    "with open('adj_matrices.json', 'w') as f:\n",
    "  json.dump(adj_matrices, f)\n"
   ]
  },
  {
   "cell_type": "markdown",
   "id": "1e540735",
   "metadata": {},
   "source": [
    "# Algorithm: PageRank for Undirected Graph\n",
    "1. Chuyen matran thanh matran kieu numpy de thuc hien cac buoc tinh toan de dang hon như shape, sum,....\n",
    "2. Tim bac cua tung node.\n",
    "4. Luu y:\n",
    "- Co mot so cong thuc no dung ma tran chuyen vi graph.T may cai do dung cho do thi co huong thoi:\n",
    "  + Vi sao?\n",
    "5. Tai sao?\n",
    "  - numpy.dot? Thay vi loop de kiem tra dieu kien - dinh co lien ket voi dinh khac de tinh pr - khi ham nay se nhan 2 ma tran lai voi nhau - cai nao co chi so (1) thi co value, cai nao khogn co chi so (0) thi khong co value\n",
    "  - dot([[0, 1, 0],[1, 0, 1],[0, 1, 0]], [[0, 1/2, 0],[1/3, 0, 1/2],[0, 1/2, 0]])\n",
    "  "
   ]
  },
  {
   "cell_type": "code",
   "execution_count": null,
   "id": "26de02c8",
   "metadata": {},
   "outputs": [],
   "source": [
    "'''\n",
    "  Phần này là tính toan PageRank cho ma trận kề đã tạo ở bước trước.\n",
    "  - Sử dụng ma trận kề đã tạo để tính toan PageRank.\n",
    "  - Kết quả là ma trận PageRank cho từng node trong ma trận kề.\n",
    "  - Test voi vi du cua cô trên lớp.\n",
    "'''\n",
    "\n",
    "def pagerank(undirected_graph, damping_factor=0.85, max_loop=100, delta=1e-10):\n",
    "  import numpy \n",
    "  undirected_graph = numpy.array(undirected_graph, dtype=float)\n",
    "\n",
    "  total_node = undirected_graph.shape[0]\n",
    "  degree_of_node = undirected_graph.sum(axis=1)\n",
    "  \n",
    "  base_matrix = numpy.ones(total_node)\n",
    "  # [[1,1,1,1]]\n",
    "  degree_of_node[degree_of_node == 0] = 1  # Avoid division by zero\n",
    "  \n",
    "  for _ in range(max_loop):\n",
    "    new_page_rank_matrix = damping_factor * numpy.dot(undirected_graph, base_matrix/degree_of_node) + (1 - damping_factor) / total_node\n",
    "    if sum(abs(new_page_rank_matrix - base_matrix)) < delta:\n",
    "      break\n",
    "    base_matrix = new_page_rank_matrix\n",
    "\n",
    "  return base_matrix\n",
    "\n",
    "# data =[\n",
    "#   [0, 1, 1, 1, 1, 0],\n",
    "#   [1, 0, 1, 1, 1, 0],\n",
    "#   [1, 1, 0, 1, 0, 0],\n",
    "#   [1, 1, 1, 0, 0, 1],\n",
    "#   [1, 1, 0, 0, 0, 1],\n",
    "#   [0, 0, 0, 1, 1, 0]\n",
    "# ]\n",
    "\n",
    "# pg = pagerank(data)\n",
    "# pg"
   ]
  },
  {
   "cell_type": "code",
   "execution_count": null,
   "id": "5f5aaa28",
   "metadata": {},
   "outputs": [],
   "source": [
    "'''\n",
    "- Phan nay doc lai ma tran ke đã tính ở bước trước\n",
    "- Chuyển nó thành np array cho cho dể tính toán\n",
    "'''\n",
    "# read from data\n",
    "def read_adj_matrices(file_path='adj_matrices.json'):\n",
    "  with open(file_path, 'r') as f:\n",
    "    adj_matrices = json.load(f)\n",
    "    # convert to numpy arrays\n",
    "    adj_matrices = [np.array(matrix) for matrix in adj_matrices]\n",
    "  return adj_matrices\n"
   ]
  },
  {
   "cell_type": "code",
   "execution_count": null,
   "id": "0f438f10",
   "metadata": {},
   "outputs": [],
   "source": [
    "# Calculate the weight of each edge\n",
    "'''\n",
    "Duyệt từng ma trân (mỗi văn bản) để tính pagerank.\n",
    "'''\n",
    "def caculate_page_range(adj_matrices):\n",
    "    page_ranks = []\n",
    "    for adj_matrix in adj_matrices:\n",
    "        pr_scores = pagerank(np.array(adj_matrix))\n",
    "        page_ranks.append(pr_scores)\n",
    "    return page_ranks"
   ]
  },
  {
   "cell_type": "code",
   "execution_count": null,
   "id": "ee19e354",
   "metadata": {},
   "outputs": [],
   "source": [
    "'''\n",
    "  Sau khi đã chuẩn bị các hàm ở bước trên thì gọi ra và sử dụng để tính toán pagrrange.\n",
    "'''\n",
    "matrices = read_adj_matrices('adj_matrices.json')\n",
    "page_ranks = caculate_page_range(matrices)"
   ]
  },
  {
   "cell_type": "code",
   "execution_count": null,
   "id": "0a988d72",
   "metadata": {},
   "outputs": [],
   "source": [
    "'''\n",
    "    Sau khi tính xong rồi thì chuyển qua bước tóm nội dung:\n",
    "    Bước 1: Duyệt lại dữ liệu gốc để lấy docid\n",
    "    Bước 2: Group lại ds kết quả & danh sách kết quả page_rank (Khâu này có thể dẫn đến lệch id) làm các bước sau sai theo \n",
    "    Bước 3: Lấy ra văn bản tóm tắt \n",
    "        - Xếp lại điểm pagge rank theo thứ tự giảm dần từ trên xuống dưới.\n",
    "        - Chổ này muốn lấy tom bao nhiêu phụ thuộc vào n_top bằng 36 phần trăm của câu gốc:\n",
    "    Bước 4: Ứng với top kết quả tìm được map với docs id để ra văn văn bản gốc đã được tóm tắt.\n",
    "'''\n",
    "\n",
    "def summarize_sentences_separate_rows(df, page_ranks, top_n=None):\n",
    "    results = []\n",
    "    docids = [docid for docid, _ in df.groupby('docid')]\n",
    "    page_rank_map = dict(zip(docids, page_ranks))\n",
    "    \n",
    "    for docid, group in df.groupby('docid'):\n",
    "        indices = group['num'].tolist()\n",
    "        # Muc tieu cua ham nay la gi vay troi:\n",
    "        # input: [{'docid': 'doc1', 'num': 1, 'sentence': 'This is a sentence.'}, ...]\n",
    "        ranks = page_rank_map.get(docid, [0]*len(indices))\n",
    "\n",
    "        rank_scores = dict(zip(indices, ranks))\n",
    "        \n",
    "        # \n",
    "        n_sent = len(indices)\n",
    "        n_top = int(n_sent * 0.36) if top_n is None else top_n\n",
    "        n_top = max(1, n_top)  # Ensure at least one sentence\n",
    "        \n",
    "        top_sentences = sorted(rank_scores.items(), key=lambda x: x[1], reverse=True)[:n_top]\n",
    "\n",
    "        for num, score in top_sentences:\n",
    "            sentence_row = group[group['num'] == num]['sentence']\n",
    "            \n",
    "            if not sentence_row.empty:\n",
    "                results.append({'docid': docid, 'num': num, 'score': score, 'sentence': sentence_row.values[0]})\n",
    "    \n",
    "    return pd.DataFrame(results)"
   ]
  },
  {
   "cell_type": "code",
   "execution_count": null,
   "id": "02508f1f",
   "metadata": {},
   "outputs": [],
   "source": [
    "'''\n",
    "  Chổ này chỉ đơn giản là lưu kết quả tinhs vào file csv.\n",
    "'''\n",
    "summaries_df = summarize_sentences_separate_rows(df, page_ranks)\n",
    "summaries_df.to_csv('DUC_TEST_summaries_separate.csv', index=False)\n",
    "# summaries_df.head(n=20)\n"
   ]
  },
  {
   "cell_type": "markdown",
   "id": "1acfa4a9",
   "metadata": {},
   "source": [
    "# Evaluate\n",
    "1. Base of result use some metrix to evalue algorithm to optimize\n",
    "2. Lam sao de doan tom tat tro len muot ma, tu nhien, luu loat"
   ]
  },
  {
   "cell_type": "markdown",
   "id": "0f33706b",
   "metadata": {},
   "source": [
    "# Cach kiem tra ket qua nhan ve co bao nhieu cau khop voi dap an\n",
    "1. Build the sum then convert with format same same with iniput\n"
   ]
  },
  {
   "cell_type": "code",
   "execution_count": 35,
   "id": "d74be716",
   "metadata": {},
   "outputs": [],
   "source": [
    "convert_duc_to_csv('./DUC_SUM/', out_dir='DUC_SUM_sentences.csv')"
   ]
  },
  {
   "cell_type": "code",
   "execution_count": null,
   "id": "0810afd1",
   "metadata": {},
   "outputs": [],
   "source": [
    "'''\n",
    "  Sau khi tính toán xong hết ôrồi, có kết quả rồi thì cần xác định được ososj chính xác để có bước điều chỉnh tiếp theo\n",
    "  1. Mô tả công thức tính precision & recall:\n",
    "  2. Duyệt lại kết quả đã tóm tắt so so với kết quả cô đưa\n",
    "  3. Tính và lưu lại vào df để lát show ra biểu đò\n",
    "  [TODO]: HIeu ro cong thuc tinh preciison & recall\n",
    "'''\n",
    "def calc_precision_recall_f1(correct, total_pred, total_ref):\n",
    "  precision = correct / total_pred if total_pred > 0 else 0\n",
    "  recall = correct / total_ref if total_ref > 0 else 0\n",
    "  f1 = 2 * precision * recall / (precision + recall) if (precision + recall) > 0 else 0\n",
    "  return precision, recall, f1\n",
    "\n",
    "def evaluate_summary_accuracy(ref_file, calc_df):\n",
    "  ref_df = pd.read_csv(ref_file)\n",
    "  ref_docids = set(ref_df['docid'])\n",
    "  calc_df = calc_df[calc_df['docid'].isin(ref_docids)]\n",
    "  results = []\n",
    "  for docid, group in calc_df.groupby('docid'):\n",
    "\n",
    "    pred_nums = set(group['num'])\n",
    "    ref_group = ref_df[ref_df['docid'] == docid]\n",
    "    ref_nums = set(ref_group['num'])\n",
    "    \n",
    "    # Khúc này & là nó lấy nhwunxg phần tử chung ra. và lấy ra dược correct\n",
    "    correct = len(pred_nums & ref_nums)\n",
    "    total_pred = len(pred_nums) # Để lấy độ dài câu predict\n",
    "    total_ref = len(ref_nums) # Để lấy độ dài câu gốc.\n",
    "    \n",
    "    precision, recall, f1 = calc_precision_recall_f1(correct, total_pred, total_ref)\n",
    "    results.append({\n",
    "      'docid': docid,\n",
    "      'correct': correct,\n",
    "      'total_pred': total_pred,\n",
    "      'total_ref': total_ref,\n",
    "      'precision': precision,\n",
    "      'recall': recall,\n",
    "      'f1': f1,\n",
    "    })\n",
    "  acc_df = pd.DataFrame(results)\n",
    "  acc_df.to_csv('DUC_TEST_accuracy.csv', index=False)\n",
    "  return acc_df\n"
   ]
  },
  {
   "cell_type": "code",
   "execution_count": 1,
   "id": "f90183a5",
   "metadata": {},
   "outputs": [
    {
     "ename": "NameError",
     "evalue": "name 'evaluate_summary_accuracy' is not defined",
     "output_type": "error",
     "traceback": [
      "\u001b[0;31m---------------------------------------------------------------------------\u001b[0m",
      "\u001b[0;31mNameError\u001b[0m                                 Traceback (most recent call last)",
      "Cell \u001b[0;32mIn[1], line 1\u001b[0m\n\u001b[0;32m----> 1\u001b[0m acc_df \u001b[38;5;241m=\u001b[39m evaluate_summary_accuracy(\u001b[38;5;124m'\u001b[39m\u001b[38;5;124mDUC_SUM_sentences.csv\u001b[39m\u001b[38;5;124m'\u001b[39m, summaries_df)\n\u001b[1;32m      2\u001b[0m acc_df\u001b[38;5;241m.\u001b[39mhead(n\u001b[38;5;241m=\u001b[39m\u001b[38;5;241m20\u001b[39m)\n",
      "\u001b[0;31mNameError\u001b[0m: name 'evaluate_summary_accuracy' is not defined"
     ]
    }
   ],
   "source": [
    "\n",
    "acc_df = evaluate_summary_accuracy('DUC_SUM_sentences.csv', summaries_df)\n",
    "acc_df.head(n=20)"
   ]
  },
  {
   "cell_type": "code",
   "execution_count": null,
   "id": "8164ee15",
   "metadata": {},
   "outputs": [],
   "source": [
    "# Use Precicion & Recall to caculate accuracy \n",
    "# Then use F1 score to evaluate the accuracy"
   ]
  },
  {
   "cell_type": "code",
   "execution_count": null,
   "id": "b4e9d732",
   "metadata": {},
   "outputs": [],
   "source": [
    "# What is Precistion and Recall?\n"
   ]
  },
  {
   "cell_type": "markdown",
   "id": "5dedb39b",
   "metadata": {},
   "source": [
    "# Recall: The ratio of correctly predicted positive observations to the all observations in actual class.\n",
    "1. P: So ket qua dung / so mo hinh trich xuat ra\n",
    "2. R: So ket qua dung / cai chung ta ky vong.\n",
    "3. F1: 2*(P*R)/(P+R)"
   ]
  },
  {
   "cell_type": "code",
   "execution_count": null,
   "id": "47fa8b5d",
   "metadata": {},
   "outputs": [
    {
     "data": {
      "image/png": "[encoded data removed]",
      "text/plain": [
       "<Figure size 1000x600 with 1 Axes>"
      ]
     },
     "metadata": {},
     "output_type": "display_data"
    }
   ],
   "source": [
    "'''\n",
    "Bước này vẽ biểu đồ:\n",
    "1. Mục tiêu của bước thể hiện được tổng quan accurracy & số lương document đạt accuracy ây\n",
    "2. Đọc biểu đồ theo kiểu: Cố 20 câu đạt accurray là 0.2\n",
    "3. Trung bình trên toàn bộ dữ liệu là 0.18\n",
    "'''\n",
    "import matplotlib.pyplot as plt\n",
    "\n",
    "plt.figure(figsize=(10, 6))\n",
    "plt.hist(acc_df['f1'], bins=20, color='skyblue', edgecolor='black')\n",
    "plt.xlabel('Accuracy')\n",
    "plt.ylabel('Number of Documents')\n",
    "plt.title('Distribution of Accuracy Scores per Document')\n",
    "\n",
    "median_f1 = acc_df['f1'].median()\n",
    "\n",
    "plt.axvline(median_f1, color='red', linestyle='dashed', linewidth=2, label=f'Median: {median_f1:.2f}')\n",
    "\n",
    "plt.legend()\n",
    "plt.grid(True)\n",
    "plt.show()\n"
   ]
  }
 ],
 "metadata": {
  "kernelspec": {
   "display_name": "base",
   "language": "python",
   "name": "python3"
  },
  "language_info": {
   "codemirror_mode": {
    "name": "ipython",
    "version": 3
   },
   "file_extension": ".py",
   "mimetype": "text/x-python",
   "name": "python",
   "nbconvert_exporter": "python",
   "pygments_lexer": "ipython3",
   "version": "3.12.7"
  }
 },
 "nbformat": 4,
 "nbformat_minor": 5
}
